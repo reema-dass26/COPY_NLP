{
  "cells": [
    {
      "cell_type": "markdown",
      "metadata": {
        "id": "nSzazUuHfGHD"
      },
      "source": [
        " **Deep Learning Approach with DestilBert**"
      ]
    },
    {
      "cell_type": "code",
      "execution_count": null,
      "metadata": {
        "id": "T6W8kiPTJkbG"
      },
      "outputs": [],
      "source": [
        "import torch\n",
        "import pandas as pd\n",
        "import numpy as np\n",
        "import time\n",
        "from transformers import AutoTokenizer, AutoModelForSequenceClassification\n",
        "from sklearn.metrics import precision_score, recall_score, f1_score, accuracy_score\n",
        "import torch.optim as optim"
      ]
    },
    {
      "cell_type": "code",
      "source": [
        "!pip install scikit-learn\n"
      ],
      "metadata": {
        "colab": {
          "base_uri": "https://localhost:8080/"
        },
        "id": "rMIlkNOY2JQ-",
        "outputId": "bfad4932-77f7-498d-ee6e-dc124b544f7e"
      },
      "execution_count": null,
      "outputs": [
        {
          "output_type": "stream",
          "name": "stdout",
          "text": [
            "Requirement already satisfied: scikit-learn in /usr/local/lib/python3.10/dist-packages (1.2.2)\n",
            "Requirement already satisfied: numpy>=1.17.3 in /usr/local/lib/python3.10/dist-packages (from scikit-learn) (1.23.5)\n",
            "Requirement already satisfied: scipy>=1.3.2 in /usr/local/lib/python3.10/dist-packages (from scikit-learn) (1.11.4)\n",
            "Requirement already satisfied: joblib>=1.1.1 in /usr/local/lib/python3.10/dist-packages (from scikit-learn) (1.3.2)\n",
            "Requirement already satisfied: threadpoolctl>=2.0.0 in /usr/local/lib/python3.10/dist-packages (from scikit-learn) (3.2.0)\n"
          ]
        }
      ]
    },
    {
      "cell_type": "code",
      "source": [
        "\n",
        "import torch\n",
        "import pandas as pd\n",
        "import numpy as np\n",
        "import time\n",
        "\n",
        "from sklearn import metrics\n",
        "from sklearn.pipeline import Pipeline\n",
        "from sklearn.model_selection import train_test_split\n",
        "# from transformers import AutoTokenizer, AutoModelForSequenceClassification\n",
        "from sklearn.metrics import precision_score, recall_score, f1_score, accuracy_score\n",
        "import torch.optim as optim\n",
        "\n",
        "\"\"\"**Importing Data**\"\"\"\n",
        "\n",
        "df = pd.read_csv(\"/content/sample_data/dreaddit-train.csv\")\n",
        "X = df.drop('label', axis=1)\n",
        "y = df['label']\n",
        "X_train, X_val, y_train, y_val = train_test_split(X, y, test_size=700, random_state=42)\n",
        "\n",
        "df1 = pd.read_csv(\"/content/sample_data/dreaddit-test.csv\")\n",
        "X_test = df1.drop('label', axis=1)\n",
        "y_test = df1['label']\n",
        "\n"
      ],
      "metadata": {
        "id": "Cuaou8Aq1kP-"
      },
      "execution_count": 25,
      "outputs": []
    },
    {
      "cell_type": "code",
      "source": [
        "import pandas as pd\n",
        "\n",
        "# Load the train and validation dataset\n",
        "df = pd.read_csv('/content/sample_data/dreaddit-train.csv')\n",
        "\n",
        "# Select columns with 'LEX' prefix and the specific columns 'id' and 'subreddit'\n",
        "lex_columns = [col for col in df.columns if col.startswith('lex_')]\n",
        "# selected_columns = ['id', 'subreddit','label'] + lex_columns\n",
        "selected_columns = ['id','label'] + lex_columns\n",
        "\n",
        "# Create a new DataFrame with the filtered columns\n",
        "filtered_df_train = df[selected_columns]\n",
        "\n",
        "# Now 'filtered_df' has only the columns you specified\n",
        "print(filtered_df_train)\n",
        "\n",
        "X = filtered_df_train.drop('label', axis=1)\n",
        "y = filtered_df_train['label']\n",
        "X_train, X_val, y_train, y_val = train_test_split(X, y, test_size=700, random_state=42)"
      ],
      "metadata": {
        "id": "_a6Z241K6STm"
      },
      "execution_count": null,
      "outputs": []
    },
    {
      "cell_type": "code",
      "source": [
        "# Load the test dataset\n",
        "df = pd.read_csv(\"/content/sample_data/dreaddit-test.csv\")\n",
        "\n",
        "# Select columns with 'LEX' prefix and the specific columns 'id' and 'subreddit'\n",
        "lex_columns = [col for col in df.columns if col.startswith('lex_')]\n",
        "# selected_columns = ['id', 'subreddit','label'] + lex_columns\n",
        "selected_columns = ['id','label'] + lex_columns\n",
        "\n",
        "\n",
        "# Create a new DataFrame with the filtered columns\n",
        "filtered_df_test = df[selected_columns]\n",
        "\n",
        "# Now 'filtered_df' has only the columns you specified\n",
        "print(filtered_df_test)\n",
        "\n",
        "X_test = filtered_df_test.drop('label', axis=1)\n",
        "y_test = filtered_df_test['label']"
      ],
      "metadata": {
        "id": "8p2EB-8n6twu"
      },
      "execution_count": null,
      "outputs": []
    },
    {
      "cell_type": "code",
      "source": [
        "import tensorflow as tf\n",
        "from tensorflow.keras.models import Sequential\n",
        "from tensorflow.keras.layers import Dense, Dropout\n",
        "\n",
        "def create_model(input_shape):\n",
        "    model = Sequential()\n",
        "    model.add(Dense(128, activation='relu', input_shape=input_shape))\n",
        "    model.add(Dropout(0.5))\n",
        "    model.add(Dense(64, activation='relu'))\n",
        "    model.add(Dropout(0.5))\n",
        "    model.add(Dense(1, activation='sigmoid'))  # Use 'softmax' for multi-class\n",
        "\n",
        "    model.compile(optimizer='adam', loss='binary_crossentropy', metrics=['accuracy'])\n",
        "    return model\n",
        "\n",
        "model = create_model((X_train.shape[1],))\n"
      ],
      "metadata": {
        "id": "X2z9RFHj4zDw"
      },
      "execution_count": 43,
      "outputs": []
    },
    {
      "cell_type": "code",
      "source": [
        "# Training with Validation\n",
        "# Train the model using the training dataset and validate it on the validation dataset:\n",
        "\n",
        "history = model.fit(X_train, y_train, epochs=10, batch_size=32, validation_data=(X_val, y_val))\n",
        "\n"
      ],
      "metadata": {
        "colab": {
          "base_uri": "https://localhost:8080/"
        },
        "id": "KArbDcKh5YQL",
        "outputId": "aab6480f-0c69-416b-8d70-997ba7553364"
      },
      "execution_count": 44,
      "outputs": [
        {
          "output_type": "stream",
          "name": "stdout",
          "text": [
            "Epoch 1/10\n",
            "67/67 [==============================] - 2s 7ms/step - loss: 505.4760 - accuracy: 0.5028 - val_loss: 150.9858 - val_accuracy: 0.5314\n",
            "Epoch 2/10\n",
            "67/67 [==============================] - 0s 4ms/step - loss: 216.0988 - accuracy: 0.5239 - val_loss: 42.5504 - val_accuracy: 0.5386\n",
            "Epoch 3/10\n",
            "67/67 [==============================] - 0s 4ms/step - loss: 106.1592 - accuracy: 0.5346 - val_loss: 6.6648 - val_accuracy: 0.5343\n",
            "Epoch 4/10\n",
            "67/67 [==============================] - 0s 4ms/step - loss: 52.0036 - accuracy: 0.5210 - val_loss: 0.7365 - val_accuracy: 0.5343\n",
            "Epoch 5/10\n",
            "67/67 [==============================] - 0s 4ms/step - loss: 21.7748 - accuracy: 0.5309 - val_loss: 0.6894 - val_accuracy: 0.5386\n",
            "Epoch 6/10\n",
            "67/67 [==============================] - 0s 4ms/step - loss: 10.1012 - accuracy: 0.4930 - val_loss: 0.6983 - val_accuracy: 0.5286\n",
            "Epoch 7/10\n",
            "67/67 [==============================] - 0s 4ms/step - loss: 5.3709 - accuracy: 0.5276 - val_loss: 0.7011 - val_accuracy: 0.5300\n",
            "Epoch 8/10\n",
            "67/67 [==============================] - 0s 4ms/step - loss: 4.1024 - accuracy: 0.5220 - val_loss: 0.6924 - val_accuracy: 0.5271\n",
            "Epoch 9/10\n",
            "67/67 [==============================] - 0s 4ms/step - loss: 3.6461 - accuracy: 0.5196 - val_loss: 0.6934 - val_accuracy: 0.5271\n",
            "Epoch 10/10\n",
            "67/67 [==============================] - 0s 3ms/step - loss: 1.8780 - accuracy: 0.5206 - val_loss: 0.6917 - val_accuracy: 0.5271\n"
          ]
        }
      ]
    },
    {
      "cell_type": "code",
      "source": [
        "# Evaluation\n",
        "# Evaluate the model's performance on the test dataset:\n",
        "\n",
        "test_loss, test_accuracy = model.evaluate(X_test, y_test)\n",
        "print(f\"Test Loss: {test_loss}, Test Accuracy: {test_accuracy}\")\n"
      ],
      "metadata": {
        "colab": {
          "base_uri": "https://localhost:8080/"
        },
        "id": "RxlfMRZo5oxW",
        "outputId": "121959df-84c0-44ae-afe2-cf0c28f88810"
      },
      "execution_count": 45,
      "outputs": [
        {
          "output_type": "stream",
          "name": "stdout",
          "text": [
            "23/23 [==============================] - 0s 3ms/step - loss: 0.6928 - accuracy: 0.5161\n",
            "Test Loss: 0.6927571892738342, Test Accuracy: 0.5160838961601257\n"
          ]
        }
      ]
    },
    {
      "cell_type": "code",
      "source": [
        "# Performance Metrics\n",
        "# Get predictions and calculate performance metrics:\n",
        "\n",
        "from sklearn.metrics import precision_score, recall_score, f1_score, accuracy_score\n",
        "\n",
        "y_pred = model.predict(X_test)\n",
        "y_pred = (y_pred > 0.5).astype(int)  # Adjust based on your output layer\n",
        "\n",
        "precision = precision_score(y_test, y_pred)\n",
        "recall = recall_score(y_test, y_pred)\n",
        "f1 = f1_score(y_test, y_pred)\n",
        "accuracy = accuracy_score(y_test, y_pred)\n",
        "\n",
        "print(f\"Precision: {precision}, Recall: {recall}, F1 Score: {f1}, Accuracy: {accuracy}\")\n"
      ],
      "metadata": {
        "colab": {
          "base_uri": "https://localhost:8080/"
        },
        "id": "bxUUdFS25vYC",
        "outputId": "d250e8da-c251-4ba4-e4a0-1057ecb42b5d"
      },
      "execution_count": 46,
      "outputs": [
        {
          "output_type": "stream",
          "name": "stdout",
          "text": [
            "23/23 [==============================] - 0s 2ms/step\n",
            "Precision: 0.5160839160839161, Recall: 1.0, F1 Score: 0.6808118081180812, Accuracy: 0.5160839160839161\n"
          ]
        }
      ]
    }
  ],
  "metadata": {
    "colab": {
      "machine_shape": "hm",
      "provenance": []
    },
    "kernelspec": {
      "display_name": "Python 3",
      "name": "python3"
    },
    "language_info": {
      "codemirror_mode": {
        "name": "ipython",
        "version": 3
      },
      "file_extension": ".py",
      "mimetype": "text/x-python",
      "name": "python",
      "nbconvert_exporter": "python",
      "pygments_lexer": "ipython3",
      "version": "3.11.5"
    }
  },
  "nbformat": 4,
  "nbformat_minor": 0
}